{
 "cells": [
  {
   "cell_type": "code",
   "execution_count": 2,
   "metadata": {},
   "outputs": [],
   "source": [
    "import pandas\n",
    "import os\n",
    "import numpy\n",
    "import seaborn\n",
    "import matplotlib.pyplot as plt\n",
    "import json"
   ]
  },
  {
   "cell_type": "code",
   "execution_count": 3,
   "metadata": {},
   "outputs": [],
   "source": [
    "# jsonları okuyup birleştirme\n",
    "def read_json_files():\n",
    "    json_files = os.listdir(\"merged-data\")\n",
    "    data = []\n",
    "    for json_file in json_files:\n",
    "        print(f\"Reading {json_file}\")\n",
    "        with open(f\"merged-data/{json_file}\", \"r\") as file:\n",
    "            json_data = json.load(file)\n",
    "            for tweet in json_data:\n",
    "                tweet[\"filename\"] = json_file\n",
    "                data.append(tweet)\n",
    "    return data\n"
   ]
  },
  {
   "cell_type": "code",
   "execution_count": 4,
   "metadata": {},
   "outputs": [
    {
     "name": "stdout",
     "output_type": "stream",
     "text": [
      "Reading avukat_merged.json\n",
      "Reading tarihci_merged.json\n",
      "Reading ogretmen_merged.json\n",
      "Reading sporyorumcusu_merged.json\n",
      "Reading psikolog_merged.json\n",
      "Reading diyetisyen_merged.json\n",
      "Reading ziraatmuhendisi_merged.json\n",
      "Reading doktor_merged.json\n",
      "Reading ekonomist_merged.json\n",
      "Reading yazilimci_merged.json\n"
     ]
    }
   ],
   "source": [
    "\n",
    "data = read_json_files()\n",
    "df = pandas.DataFrame(data)\n",
    "tweets=df.copy()\n"
   ]
  },
  {
   "cell_type": "code",
   "execution_count": 5,
   "metadata": {},
   "outputs": [],
   "source": [
    "# occupation sütununu oluşturma\n",
    "tweets['occupation'] = tweets['filename'].str.split('_').str[0]\n",
    "\n",
    "tweets['occupation'] = tweets['occupation'].replace('ogretmen', 'öğretmen')\n",
    "tweets['occupation'] = tweets['occupation'].replace('sporyorumcusu', 'spor yorumcusu')\n",
    "tweets['occupation'] = tweets['occupation'].replace('tarihci', 'tarihçi')\n",
    "tweets['occupation'] = tweets['occupation'].replace('yazilimci', 'yazılımcı')\n",
    "tweets['occupation'] = tweets['occupation'].replace('ziraatmuhendisi', 'ziraat mühendisi')\n",
    "\n",
    "# filename sütununu silme\n",
    "tweets = tweets.drop('filename', axis=1)\n"
   ]
  },
  {
   "cell_type": "code",
   "execution_count": 47,
   "metadata": {},
   "outputs": [
    {
     "data": {
      "text/html": [
       "<div>\n",
       "<style scoped>\n",
       "    .dataframe tbody tr th:only-of-type {\n",
       "        vertical-align: middle;\n",
       "    }\n",
       "\n",
       "    .dataframe tbody tr th {\n",
       "        vertical-align: top;\n",
       "    }\n",
       "\n",
       "    .dataframe thead th {\n",
       "        text-align: right;\n",
       "    }\n",
       "</style>\n",
       "<table border=\"1\" class=\"dataframe\">\n",
       "  <thead>\n",
       "    <tr style=\"text-align: right;\">\n",
       "      <th></th>\n",
       "      <th>tweet</th>\n",
       "      <th>source</th>\n",
       "      <th>occupation</th>\n",
       "      <th>tweet_length</th>\n",
       "    </tr>\n",
       "  </thead>\n",
       "  <tbody>\n",
       "    <tr>\n",
       "      <th>53841</th>\n",
       "      <td>Dün Hatay Musa Dağı’nda müthiş bir akşamüstü v...</td>\n",
       "      <td>api</td>\n",
       "      <td>yazılımcı</td>\n",
       "      <td>202</td>\n",
       "    </tr>\n",
       "    <tr>\n",
       "      <th>53842</th>\n",
       "      <td>Millet ben lifestyle ve vlog’a kayıyorum artık...</td>\n",
       "      <td>api</td>\n",
       "      <td>yazılımcı</td>\n",
       "      <td>186</td>\n",
       "    </tr>\n",
       "    <tr>\n",
       "      <th>53843</th>\n",
       "      <td>Adalet yok ya\\nCanımı yakar bu sessizlik\\n\\nYe...</td>\n",
       "      <td>api</td>\n",
       "      <td>yazılımcı</td>\n",
       "      <td>111</td>\n",
       "    </tr>\n",
       "    <tr>\n",
       "      <th>53844</th>\n",
       "      <td>✅Dönerin son lokması ile ayranın son yudumu de...</td>\n",
       "      <td>api</td>\n",
       "      <td>yazılımcı</td>\n",
       "      <td>148</td>\n",
       "    </tr>\n",
       "    <tr>\n",
       "      <th>53845</th>\n",
       "      <td>Çok bişey istemiyorum ya, ayağımızı sudan kess...</td>\n",
       "      <td>api</td>\n",
       "      <td>yazılımcı</td>\n",
       "      <td>79</td>\n",
       "    </tr>\n",
       "  </tbody>\n",
       "</table>\n",
       "</div>"
      ],
      "text/plain": [
       "                                                   tweet source occupation  \\\n",
       "53841  Dün Hatay Musa Dağı’nda müthiş bir akşamüstü v...    api  yazılımcı   \n",
       "53842  Millet ben lifestyle ve vlog’a kayıyorum artık...    api  yazılımcı   \n",
       "53843  Adalet yok ya\\nCanımı yakar bu sessizlik\\n\\nYe...    api  yazılımcı   \n",
       "53844  ✅Dönerin son lokması ile ayranın son yudumu de...    api  yazılımcı   \n",
       "53845  Çok bişey istemiyorum ya, ayağımızı sudan kess...    api  yazılımcı   \n",
       "\n",
       "       tweet_length  \n",
       "53841           202  \n",
       "53842           186  \n",
       "53843           111  \n",
       "53844           148  \n",
       "53845            79  "
      ]
     },
     "execution_count": 47,
     "metadata": {},
     "output_type": "execute_result"
    }
   ],
   "source": [
    "#df ilk verilere bakış\n",
    "tweets.tail()\n",
    "\n",
    "# ilk 10 veriyi tablo haline getir ve .png olarak kaydet\n",
    "\n"
   ]
  },
  {
   "cell_type": "code",
   "execution_count": 7,
   "metadata": {},
   "outputs": [
    {
     "name": "stdout",
     "output_type": "stream",
     "text": [
      "<class 'pandas.core.frame.DataFrame'>\n",
      "RangeIndex: 53846 entries, 0 to 53845\n",
      "Data columns (total 3 columns):\n",
      " #   Column      Non-Null Count  Dtype \n",
      "---  ------      --------------  ----- \n",
      " 0   tweet       53835 non-null  object\n",
      " 1   source      53846 non-null  object\n",
      " 2   occupation  53846 non-null  object\n",
      "dtypes: object(3)\n",
      "memory usage: 1.2+ MB\n"
     ]
    }
   ],
   "source": [
    "tweets.info()"
   ]
  },
  {
   "cell_type": "code",
   "execution_count": 8,
   "metadata": {},
   "outputs": [
    {
     "data": {
      "text/plain": [
       "tweet         11\n",
       "source         0\n",
       "occupation     0\n",
       "dtype: int64"
      ]
     },
     "execution_count": 8,
     "metadata": {},
     "output_type": "execute_result"
    }
   ],
   "source": [
    "tweets.isnull().sum()"
   ]
  },
  {
   "cell_type": "code",
   "execution_count": 36,
   "metadata": {},
   "outputs": [],
   "source": [
    "# null olan verileri silme\n",
    "tweets = tweets.dropna()\n"
   ]
  },
  {
   "cell_type": "code",
   "execution_count": 37,
   "metadata": {},
   "outputs": [
    {
     "name": "stderr",
     "output_type": "stream",
     "text": [
      "/var/folders/5m/yt3qzmy97flb4x55_1dzdlpc0000gn/T/ipykernel_3578/1668949460.py:10: FutureWarning: \n",
      "\n",
      "Passing `palette` without assigning `hue` is deprecated and will be removed in v0.14.0. Assign the `x` variable to `hue` and set `legend=False` for the same effect.\n",
      "\n",
      "  sns_plot = sns.barplot(x=occupation_freq.index, y=occupation_freq, palette='viridis')\n"
     ]
    },
    {
     "data": {
      "image/png": "[encoded data removed]",
      "text/plain": [
       "<Figure size 1000x600 with 1 Axes>"
      ]
     },
     "metadata": {},
     "output_type": "display_data"
    }
   ],
   "source": [
    "#mesleklerin sayısını bulma\n",
    "import seaborn as sns\n",
    "occupation_freq=tweets['occupation'].value_counts()\n",
    "occupation_freq\n",
    "\n",
    "# save the occupation frequency plot as a png file \n",
    "# write the value of the occupation freq on the bars, with a little padding\n",
    "# change the collor palette considering values\n",
    "plt.figure(figsize=(10,6))\n",
    "sns_plot = sns.barplot(x=occupation_freq.index, y=occupation_freq, palette='viridis')\n",
    "for index, value in enumerate(occupation_freq):\n",
    "    sns_plot.text(index,value+0.5,value, color='black', ha=\"center\")\n",
    "plt.xticks(rotation=45)\n",
    "plt.title('Meslek Frekansları')\n",
    "plt.xlabel('Meslek')\n",
    "plt.ylabel('Frekans')\n",
    "plt.tight_layout()\n",
    "plt.savefig('occupation_freq.png')\n",
    "plt.show()\n",
    "\n",
    "\n"
   ]
  },
  {
   "cell_type": "code",
   "execution_count": 38,
   "metadata": {},
   "outputs": [
    {
     "data": {
      "text/plain": [
       "source\n",
       "mayda    43024\n",
       "api      10811\n",
       "Name: count, dtype: int64"
      ]
     },
     "execution_count": 38,
     "metadata": {},
     "output_type": "execute_result"
    }
   ],
   "source": [
    "#verinin geldiği kaynağa göre tweet sayısı\n",
    "source_freq=tweets['source'].value_counts()\n",
    "source_freq\n"
   ]
  },
  {
   "cell_type": "code",
   "execution_count": 40,
   "metadata": {},
   "outputs": [
    {
     "data": {
      "text/html": [
       "<div>\n",
       "<style scoped>\n",
       "    .dataframe tbody tr th:only-of-type {\n",
       "        vertical-align: middle;\n",
       "    }\n",
       "\n",
       "    .dataframe tbody tr th {\n",
       "        vertical-align: top;\n",
       "    }\n",
       "\n",
       "    .dataframe thead th {\n",
       "        text-align: right;\n",
       "    }\n",
       "</style>\n",
       "<table border=\"1\" class=\"dataframe\">\n",
       "  <thead>\n",
       "    <tr style=\"text-align: right;\">\n",
       "      <th></th>\n",
       "      <th></th>\n",
       "      <th>tweet</th>\n",
       "    </tr>\n",
       "    <tr>\n",
       "      <th>occupation</th>\n",
       "      <th>source</th>\n",
       "      <th></th>\n",
       "    </tr>\n",
       "  </thead>\n",
       "  <tbody>\n",
       "    <tr>\n",
       "      <th rowspan=\"2\" valign=\"top\">avukat</th>\n",
       "      <th>api</th>\n",
       "      <td>892</td>\n",
       "    </tr>\n",
       "    <tr>\n",
       "      <th>mayda</th>\n",
       "      <td>2809</td>\n",
       "    </tr>\n",
       "    <tr>\n",
       "      <th rowspan=\"2\" valign=\"top\">diyetisyen</th>\n",
       "      <th>api</th>\n",
       "      <td>809</td>\n",
       "    </tr>\n",
       "    <tr>\n",
       "      <th>mayda</th>\n",
       "      <td>3526</td>\n",
       "    </tr>\n",
       "    <tr>\n",
       "      <th rowspan=\"2\" valign=\"top\">doktor</th>\n",
       "      <th>api</th>\n",
       "      <td>1328</td>\n",
       "    </tr>\n",
       "    <tr>\n",
       "      <th>mayda</th>\n",
       "      <td>4910</td>\n",
       "    </tr>\n",
       "    <tr>\n",
       "      <th rowspan=\"2\" valign=\"top\">ekonomist</th>\n",
       "      <th>api</th>\n",
       "      <td>1375</td>\n",
       "    </tr>\n",
       "    <tr>\n",
       "      <th>mayda</th>\n",
       "      <td>3867</td>\n",
       "    </tr>\n",
       "    <tr>\n",
       "      <th rowspan=\"2\" valign=\"top\">psikolog</th>\n",
       "      <th>api</th>\n",
       "      <td>1304</td>\n",
       "    </tr>\n",
       "    <tr>\n",
       "      <th>mayda</th>\n",
       "      <td>5835</td>\n",
       "    </tr>\n",
       "    <tr>\n",
       "      <th rowspan=\"2\" valign=\"top\">spor yorumcusu</th>\n",
       "      <th>api</th>\n",
       "      <td>995</td>\n",
       "    </tr>\n",
       "    <tr>\n",
       "      <th>mayda</th>\n",
       "      <td>4180</td>\n",
       "    </tr>\n",
       "    <tr>\n",
       "      <th rowspan=\"2\" valign=\"top\">tarihçi</th>\n",
       "      <th>api</th>\n",
       "      <td>1444</td>\n",
       "    </tr>\n",
       "    <tr>\n",
       "      <th>mayda</th>\n",
       "      <td>4878</td>\n",
       "    </tr>\n",
       "    <tr>\n",
       "      <th rowspan=\"2\" valign=\"top\">yazılımcı</th>\n",
       "      <th>api</th>\n",
       "      <td>987</td>\n",
       "    </tr>\n",
       "    <tr>\n",
       "      <th>mayda</th>\n",
       "      <td>3974</td>\n",
       "    </tr>\n",
       "    <tr>\n",
       "      <th rowspan=\"2\" valign=\"top\">ziraat mühendisi</th>\n",
       "      <th>api</th>\n",
       "      <td>473</td>\n",
       "    </tr>\n",
       "    <tr>\n",
       "      <th>mayda</th>\n",
       "      <td>4695</td>\n",
       "    </tr>\n",
       "    <tr>\n",
       "      <th rowspan=\"2\" valign=\"top\">öğretmen</th>\n",
       "      <th>api</th>\n",
       "      <td>1204</td>\n",
       "    </tr>\n",
       "    <tr>\n",
       "      <th>mayda</th>\n",
       "      <td>4350</td>\n",
       "    </tr>\n",
       "  </tbody>\n",
       "</table>\n",
       "</div>"
      ],
      "text/plain": [
       "                         tweet\n",
       "occupation       source       \n",
       "avukat           api       892\n",
       "                 mayda    2809\n",
       "diyetisyen       api       809\n",
       "                 mayda    3526\n",
       "doktor           api      1328\n",
       "                 mayda    4910\n",
       "ekonomist        api      1375\n",
       "                 mayda    3867\n",
       "psikolog         api      1304\n",
       "                 mayda    5835\n",
       "spor yorumcusu   api       995\n",
       "                 mayda    4180\n",
       "tarihçi          api      1444\n",
       "                 mayda    4878\n",
       "yazılımcı        api       987\n",
       "                 mayda    3974\n",
       "ziraat mühendisi api       473\n",
       "                 mayda    4695\n",
       "öğretmen         api      1204\n",
       "                 mayda    4350"
      ]
     },
     "execution_count": 40,
     "metadata": {},
     "output_type": "execute_result"
    }
   ],
   "source": [
    "# mesleğe göre source sayıları\n",
    "occupation_source_freq=tweets.groupby(['occupation','source']).count()\n",
    "occupation_source_freq\n",
    "\n",
    "\n"
   ]
  },
  {
   "cell_type": "code",
   "execution_count": 41,
   "metadata": {},
   "outputs": [
    {
     "name": "stderr",
     "output_type": "stream",
     "text": [
      "/var/folders/5m/yt3qzmy97flb4x55_1dzdlpc0000gn/T/ipykernel_3578/2753121167.py:2: SettingWithCopyWarning: \n",
      "A value is trying to be set on a copy of a slice from a DataFrame.\n",
      "Try using .loc[row_indexer,col_indexer] = value instead\n",
      "\n",
      "See the caveats in the documentation: https://pandas.pydata.org/pandas-docs/stable/user_guide/indexing.html#returning-a-view-versus-a-copy\n",
      "  tweets['tweet_length']=tweets['tweet'].apply(len)\n"
     ]
    },
    {
     "data": {
      "text/plain": [
       "occupation\n",
       "doktor              180.938442\n",
       "psikolog            174.361815\n",
       "avukat              172.710889\n",
       "tarihçi             164.141095\n",
       "diyetisyen          150.906344\n",
       "ekonomist           144.106639\n",
       "spor yorumcusu      138.107633\n",
       "ziraat mühendisi    132.204915\n",
       "öğretmen            123.287000\n",
       "yazılımcı           114.111671\n",
       "Name: tweet_length, dtype: float64"
      ]
     },
     "execution_count": 41,
     "metadata": {},
     "output_type": "execute_result"
    }
   ],
   "source": [
    "#tweet uzunlukları\n",
    "tweets['tweet_length']=tweets['tweet'].apply(len)\n",
    "\n",
    "#mesleklerin ortalama tweet uzunlukları\n",
    "occupation_tweet_length=tweets.groupby('occupation')['tweet_length'].mean().sort_values(ascending=False)\n",
    "occupation_tweet_length"
   ]
  },
  {
   "cell_type": "code",
   "execution_count": 42,
   "metadata": {},
   "outputs": [
    {
     "name": "stderr",
     "output_type": "stream",
     "text": [
      "/var/folders/5m/yt3qzmy97flb4x55_1dzdlpc0000gn/T/ipykernel_3578/162909321.py:2: SettingWithCopyWarning: \n",
      "A value is trying to be set on a copy of a slice from a DataFrame.\n",
      "Try using .loc[row_indexer,col_indexer] = value instead\n",
      "\n",
      "See the caveats in the documentation: https://pandas.pydata.org/pandas-docs/stable/user_guide/indexing.html#returning-a-view-versus-a-copy\n",
      "  tweets['tweet_length']=tweets['tweet'].apply(len)\n"
     ]
    },
    {
     "data": {
      "text/plain": [
       "source\n",
       "api      182.653686\n",
       "mayda    142.573192\n",
       "Name: tweet_length, dtype: float64"
      ]
     },
     "execution_count": 42,
     "metadata": {},
     "output_type": "execute_result"
    }
   ],
   "source": [
    "#tweet uzunlukları\n",
    "tweets['tweet_length']=tweets['tweet'].apply(len)\n",
    "\n",
    "#mesleklerin ortalama tweet uzunlukları\n",
    "occupation_tweet_length=tweets.groupby('source')['tweet_length'].mean().sort_values(ascending=False)\n",
    "occupation_tweet_length"
   ]
  },
  {
   "cell_type": "code",
   "execution_count": 44,
   "metadata": {},
   "outputs": [
    {
     "data": {
      "image/png": "[encoded data removed]",
      "text/plain": [
       "<Figure size 1000x600 with 1 Axes>"
      ]
     },
     "metadata": {},
     "output_type": "display_data"
    }
   ],
   "source": [
    "\n",
    "tweets['tweet_length'].describe()\n",
    "# make the plot of the tweet lengths. compare it with source\n",
    "plt.figure(figsize=(10,6))\n",
    "sns.histplot(tweets['tweet_length'], bins=30, kde=True)\n",
    "plt.title('Tweet Uzunlukları')\n",
    "plt.xlabel('Tweet Uzunluğu')\n",
    "plt.ylabel('Frekans')\n",
    "plt.tight_layout()\n",
    "plt.savefig('tweet_length.png')\n",
    "plt.show()\n",
    "\n",
    "\n",
    "\n"
   ]
  },
  {
   "cell_type": "code",
   "execution_count": 35,
   "metadata": {},
   "outputs": [
    {
     "data": {
      "text/html": [
       "<div>\n",
       "<style scoped>\n",
       "    .dataframe tbody tr th:only-of-type {\n",
       "        vertical-align: middle;\n",
       "    }\n",
       "\n",
       "    .dataframe tbody tr th {\n",
       "        vertical-align: top;\n",
       "    }\n",
       "\n",
       "    .dataframe thead th {\n",
       "        text-align: right;\n",
       "    }\n",
       "</style>\n",
       "<table border=\"1\" class=\"dataframe\">\n",
       "  <thead>\n",
       "    <tr style=\"text-align: right;\">\n",
       "      <th></th>\n",
       "      <th>tweet</th>\n",
       "      <th>source</th>\n",
       "      <th>occupation</th>\n",
       "      <th>tweet_length</th>\n",
       "    </tr>\n",
       "  </thead>\n",
       "  <tbody>\n",
       "    <tr>\n",
       "      <th>0</th>\n",
       "      <td>Öyle kolay değildir #TürkiyedeAvukatOlmak Yarı...</td>\n",
       "      <td>mayda</td>\n",
       "      <td>avukat</td>\n",
       "      <td>84</td>\n",
       "    </tr>\n",
       "    <tr>\n",
       "      <th>1</th>\n",
       "      <td>“Suçsuzluğu ispatlanana kadar herkes suçludur ...</td>\n",
       "      <td>mayda</td>\n",
       "      <td>avukat</td>\n",
       "      <td>149</td>\n",
       "    </tr>\n",
       "    <tr>\n",
       "      <th>2</th>\n",
       "      <td>Hep karanlık, yeter artık ... Saygı ile anıyor...</td>\n",
       "      <td>mayda</td>\n",
       "      <td>avukat</td>\n",
       "      <td>58</td>\n",
       "    </tr>\n",
       "    <tr>\n",
       "      <th>3</th>\n",
       "      <td>Suçu saz çalmakmış öğrendiğim kadar... #HelinB...</td>\n",
       "      <td>mayda</td>\n",
       "      <td>avukat</td>\n",
       "      <td>50</td>\n",
       "    </tr>\n",
       "    <tr>\n",
       "      <th>4</th>\n",
       "      <td>Marlon Brando'nun doğum günü. BABA-1972</td>\n",
       "      <td>mayda</td>\n",
       "      <td>avukat</td>\n",
       "      <td>39</td>\n",
       "    </tr>\n",
       "  </tbody>\n",
       "</table>\n",
       "</div>"
      ],
      "text/plain": [
       "                                               tweet source occupation  \\\n",
       "0  Öyle kolay değildir #TürkiyedeAvukatOlmak Yarı...  mayda     avukat   \n",
       "1  “Suçsuzluğu ispatlanana kadar herkes suçludur ...  mayda     avukat   \n",
       "2  Hep karanlık, yeter artık ... Saygı ile anıyor...  mayda     avukat   \n",
       "3  Suçu saz çalmakmış öğrendiğim kadar... #HelinB...  mayda     avukat   \n",
       "4            Marlon Brando'nun doğum günü. BABA-1972  mayda     avukat   \n",
       "\n",
       "   tweet_length  \n",
       "0            84  \n",
       "1           149  \n",
       "2            58  \n",
       "3            50  \n",
       "4            39  "
      ]
     },
     "execution_count": 35,
     "metadata": {},
     "output_type": "execute_result"
    }
   ],
   "source": [
    "tweets.head()"
   ]
  },
  {
   "cell_type": "code",
   "execution_count": null,
   "metadata": {},
   "outputs": [],
   "source": []
  }
 ],
 "metadata": {
  "kernelspec": {
   "display_name": "Python 3",
   "language": "python",
   "name": "python3"
  },
  "language_info": {
   "codemirror_mode": {
    "name": "ipython",
    "version": 3
   },
   "file_extension": ".py",
   "mimetype": "text/x-python",
   "name": "python",
   "nbconvert_exporter": "python",
   "pygments_lexer": "ipython3",
   "version": "3.12.8"
  }
 },
 "nbformat": 4,
 "nbformat_minor": 2
}
